{
  "nbformat": 4,
  "nbformat_minor": 0,
  "metadata": {
    "colab": {
      "name": "Upside down image detection using PyTorch.ipynb",
      "provenance": [],
      "collapsed_sections": []
    },
    "kernelspec": {
      "name": "python3",
      "display_name": "Python 3"
    }
  },
  "cells": [
    {
      "cell_type": "markdown",
      "metadata": {
        "id": "eBpjBBZc6IvA"
      },
      "source": [
        ""
      ]
    },
    {
      "cell_type": "markdown",
      "metadata": {
        "id": "braBzmRpMe7_"
      },
      "source": [
        "# Upside images detector"
      ]
    },
    {
      "cell_type": "markdown",
      "metadata": {
        "id": "1IWw-NZf5WfF"
      },
      "source": [
        "**Upside down detector**: Train a model to detect if images are upside down\n",
        "\n"
      ]
    },
    {
      "cell_type": "code",
      "source": [
        "from google.colab import drive\n",
        "drive.mount('/content/drive')"
      ],
      "metadata": {
        "colab": {
          "base_uri": "https://localhost:8080/"
        },
        "id": "S0c3cxXKn6JB",
        "outputId": "8ad91982-0906-4787-a405-fdcf282c8b23"
      },
      "execution_count": 7,
      "outputs": [
        {
          "output_type": "stream",
          "name": "stdout",
          "text": [
            "Mounted at /content/drive\n"
          ]
        }
      ]
    },
    {
      "cell_type": "code",
      "source": [
        "# import Module\n",
        "import numpy as np \n",
        "import torch \n",
        "import torch.nn as nn\n",
        "import torch.nn.functional as F\n",
        "import torchvision.transforms as tt\n",
        "from torchvision.models import densenet161\n",
        "from torch.utils.data import DataLoader, random_split\n",
        "from torchvision.datasets import ImageFolder\n",
        "import torch.optim as optim\n",
        "from tqdm import tqdm"
      ],
      "metadata": {
        "id": "drH0gsu8mhtP"
      },
      "execution_count": 3,
      "outputs": []
    },
    {
      "cell_type": "code",
      "source": [
        "epoches = 5\n",
        "val_size = 4000\n",
        "valid_loss_min = np.Inf\n",
        "path = '/content/drive/My Drive/AI_Project/Fatima Fellowship/data/'\n",
        "batch_size = 64\n",
        "lr = 1e-3\n",
        "epoch = 5\n",
        "device = torch.device('cuda' if torch.cuda.is_available() else 'cpu')\n",
        "trans = tt.Compose(\n",
        "    [\n",
        "     tt.Resize(224),\n",
        "     tt.ToTensor(),\n",
        "\n",
        "    ]\n",
        ")\n",
        "dataset = ImageFolder(root = path, transform=trans)\n",
        "\n",
        "train_size = len(dataset) - val_size\n",
        "train_set, test_set = random_split(dataset, [train_size, val_size])\n",
        "\n",
        "train_dataloader = DataLoader (train_set, batch_size= batch_size, shuffle = True)\n",
        "test_dataloader = DataLoader (test_set, batch_size, shuffle = True)"
      ],
      "metadata": {
        "id": "LJAFDfnLnSCW"
      },
      "execution_count": 11,
      "outputs": []
    },
    {
      "cell_type": "code",
      "source": [
        ""
      ],
      "metadata": {
        "id": "q-P_GGrMogP1"
      },
      "execution_count": null,
      "outputs": []
    },
    {
      "cell_type": "code",
      "source": [
        ""
      ],
      "metadata": {
        "id": "3o8tHXlwogT-"
      },
      "execution_count": null,
      "outputs": []
    },
    {
      "cell_type": "code",
      "source": [
        ""
      ],
      "metadata": {
        "id": "kaYSrHaSogXp"
      },
      "execution_count": null,
      "outputs": []
    },
    {
      "cell_type": "code",
      "source": [
        ""
      ],
      "metadata": {
        "id": "JsQN32RPogaf"
      },
      "execution_count": null,
      "outputs": []
    },
    {
      "cell_type": "code",
      "source": [
        ""
      ],
      "metadata": {
        "id": "Na4ZNRf2ogdJ"
      },
      "execution_count": null,
      "outputs": []
    }
  ]
}